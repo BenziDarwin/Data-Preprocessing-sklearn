{
 "cells": [
  {
   "cell_type": "markdown",
   "metadata": {},
   "source": [
    "## Import Necessary Modules"
   ]
  },
  {
   "cell_type": "code",
   "execution_count": 1,
   "metadata": {},
   "outputs": [],
   "source": [
    "import numpy as np\n",
    "import pandas as pd\n",
    "import matplotlib.pyplot as plt\n",
    "from sklearn.preprocessing import LabelEncoder, StandardScaler\n"
   ]
  },
  {
   "cell_type": "markdown",
   "metadata": {},
   "source": [
    "## Import Data to dataframe\n",
    "Since they were already split for us no need to use train_test_split from sckit learn."
   ]
  },
  {
   "cell_type": "code",
   "execution_count": 2,
   "metadata": {},
   "outputs": [],
   "source": [
    "train = pd.read_csv(\"./train.csv\")\n",
    "test = pd.read_csv(\"./test.csv\")"
   ]
  },
  {
   "cell_type": "markdown",
   "metadata": {},
   "source": [
    "## Creating X and Y training values"
   ]
  },
  {
   "cell_type": "code",
   "execution_count": 3,
   "metadata": {},
   "outputs": [],
   "source": [
    "train_x = train[[\"PassengerId\",\"Pclass\",\"Name\",\"Sex\",\"Age\",\"SibSp\",\"Parch\",\"Ticket\",\"Fare\",\"Cabin\",\"Embarked\"]]\n",
    "train_y= train[[\"Survived\"]]"
   ]
  },
  {
   "cell_type": "markdown",
   "metadata": {},
   "source": [
    "## Cleaning the dataset\n",
    "1. Removing null values and removing columns which have more than 55% null values.\n",
    "2. Also dropping irrelevant columns in the dataset."
   ]
  },
  {
   "cell_type": "code",
   "execution_count": 4,
   "metadata": {},
   "outputs": [],
   "source": [
    "# Below code gives percentage of null in every column\n",
    "null_percentage = train_x.isnull().sum()/train_x.shape[0]*100\n",
    "\n",
    "# Below code gives list of columns having more than 55% null\n",
    "col_to_drop = null_percentage[null_percentage>55].keys().tolist()\n",
    "\n",
    "# Adding Name and Ticket because they are irrelevant.\n",
    "col_to_drop.extend([\"Name\", \"Ticket\"])\n",
    "\n",
    "train_x = train_x.drop(col_to_drop, axis=1)\n",
    "test_x = test.drop(col_to_drop,axis=1)\n",
    "\n",
    "# Converting strings into classes represented by numbers\n",
    "le_x = LabelEncoder()\n",
    "train_x['Sex'] = le_x.fit_transform(train_x['Sex'])\n",
    "train_x[\"Embarked\"] = le_x.fit_transform(train_x[\"Embarked\"])\n",
    "test_x['Sex'] = le_x.fit_transform(test_x['Sex'])\n",
    "test_x[\"Embarked\"] = le_x.fit_transform(test_x[\"Embarked\"])\n",
    "\n"
   ]
  },
  {
   "cell_type": "markdown",
   "metadata": {},
   "source": [
    "## Filling null values"
   ]
  },
  {
   "cell_type": "code",
   "execution_count": 5,
   "metadata": {},
   "outputs": [],
   "source": [
    "train_x.fillna(train_x.mean(), inplace=True)\n",
    "test_x.fillna(test_x.mean(),inplace=True)"
   ]
  },
  {
   "cell_type": "markdown",
   "metadata": {},
   "source": [
    "## Scaling the data"
   ]
  },
  {
   "cell_type": "code",
   "execution_count": 8,
   "metadata": {},
   "outputs": [],
   "source": [
    "std_x = StandardScaler()\n",
    "train_x = std_x.fit_transform(train_x)\n",
    "test_x = std_x.fit_transform(test_x)"
   ]
  }
 ],
 "metadata": {
  "kernelspec": {
   "display_name": "Python 3",
   "language": "python",
   "name": "python3"
  },
  "language_info": {
   "codemirror_mode": {
    "name": "ipython",
    "version": 3
   },
   "file_extension": ".py",
   "mimetype": "text/x-python",
   "name": "python",
   "nbconvert_exporter": "python",
   "pygments_lexer": "ipython3",
   "version": "3.11.7"
  }
 },
 "nbformat": 4,
 "nbformat_minor": 2
}
